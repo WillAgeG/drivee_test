{
 "cells": [
  {
   "cell_type": "code",
   "execution_count": 12,
   "id": "720bea37",
   "metadata": {},
   "outputs": [],
   "source": [
    "import numpy as np\n",
    "from scipy.optimize import linear_sum_assignment\n",
    "\n",
    "# Начальная характеристика\n",
    "max_orders = 10 # Максмальное кол-во заказов которое может быть в очереди\n",
    "max_end_time = 300 # Максмальное время которое может быть использовано в очереди\n",
    "drive_speed = 40 # В км/ч"
   ]
  },
  {
   "cell_type": "code",
   "execution_count": 13,
   "id": "085705a4",
   "metadata": {},
   "outputs": [],
   "source": [
    "# Пример входных данных\n",
    "orders = [\n",
    "    {\"id\": 1, \"from\": (0, 0), \"to\": (5, 5), \"cost\": 200},\n",
    "    {\"id\": 2, \"from\": (1, 1), \"to\": (6, 6), \"cost\": 200},\n",
    "    {\"id\": 3, \"from\": (2, 2), \"to\": (7, 7), \"cost\": 200},\n",
    "    {\"id\": 4, \"from\": (3, 2), \"to\": (1, 2), \"cost\": 200},\n",
    "    {\"id\": 5, \"from\": (2, 3), \"to\": (7, 3), \"cost\": 200},\n",
    "    {\"id\": 6, \"from\": (4, 2), \"to\": (2, 7), \"cost\": 200},\n",
    "    {\"id\": 7, \"from\": (2, 4), \"to\": (1, 1), \"cost\": 200},\n",
    "    {\"id\": 8, \"from\": (2, 7), \"to\": (7, 11), \"cost\": 200},\n",
    "    {\"id\": 9, \"from\": (7, 2), \"to\": (7, 1), \"cost\": 200},\n",
    "    {\"id\": 10, \"from\": (7, 7), \"to\": (12, 0), \"cost\": 200},\n",
    "    {\"id\": 11, \"from\": (70, 7), \"to\": (11, 0), \"cost\": 200},\n",
    "]\n",
    "\n",
    "couriers = [\n",
    "    {\"id\": 1, \"location\": (0, 1), \"end_time\": None, \"orders\": 0},\n",
    "    {\"id\": 2, \"location\": (0, 1), \"end_time\": None, \"orders\": 0},\n",
    "]\n",
    "\n",
    "assigned_orders = [] # Список выполняемых заказов"
   ]
  },
  {
   "cell_type": "code",
   "execution_count": 14,
   "id": "879509ff",
   "metadata": {},
   "outputs": [],
   "source": [
    "def euclidean_distance(point1, point2):\n",
    "    return np.sqrt((point1[0] - point2[0])**2 + (point1[1] - point2[1])**2)"
   ]
  },
  {
   "cell_type": "code",
   "execution_count": 15,
   "id": "aba005e7",
   "metadata": {},
   "outputs": [
    {
     "name": "stdout",
     "output_type": "stream",
     "text": [
      "Заказ 4 назначен курьеру 2\n",
      "Заказ 7 назначен курьеру 1\n",
      "==============================\n",
      "Заказ 2 назначен курьеру 1\n",
      "Заказ 5 назначен курьеру 2\n",
      "==============================\n",
      "Заказ 6 назначен курьеру 1\n",
      "Заказ 9 назначен курьеру 2\n",
      "==============================\n",
      "Заказ 3 назначен курьеру 2\n",
      "Заказ 8 назначен курьеру 1\n",
      "==============================\n",
      "Заказ 1 назначен курьеру 1\n",
      "Заказ 10 назначен курьеру 2\n",
      "==============================\n",
      "Заказ 11 назначен курьеру 2\n",
      "==============================\n",
      "Все заказы обработаны.\n"
     ]
    }
   ],
   "source": [
    "while orders:\n",
    "    cost_matrix = np.full((len(orders), len(couriers)), np.inf)\n",
    "\n",
    "    for i, order in enumerate(orders):\n",
    "        for j, courier in enumerate(couriers):\n",
    "            \n",
    "            distance_to_order_start = euclidean_distance(courier[\"location\"], order[\"from\"])\n",
    "            \n",
    "            distance_order = euclidean_distance(order['from'], order['to'])\n",
    "            \n",
    "            total_distance = distance_to_order_start + distance_order\n",
    "            cost_matrix[i, j] = total_distance + (courier[\"end_time\"] or 0)\n",
    "\n",
    "    row_ind, col_ind = linear_sum_assignment(cost_matrix)\n",
    "\n",
    "    assigned_orders = []\n",
    "\n",
    "    for row, col in zip(row_ind, col_ind):\n",
    "        distance_order = euclidean_distance(orders[row]['from'], orders[row]['to'])\n",
    "        couriers[col]['end_time'] = (couriers[col]['end_time'] or 0) + distance_order\n",
    "        couriers[col]['orders'] += 1\n",
    "        couriers[col]['location'] = orders[row]['to']\n",
    "\n",
    "        print(f\"Заказ {orders[row]['id']} назначен курьеру {couriers[col]['id']}\")\n",
    "        \n",
    "        assigned_orders.append(orders[row]['id'])\n",
    "\n",
    "    orders = [order for order in orders if order['id'] not in assigned_orders]\n",
    "\n",
    "    print(\"==============================\")\n",
    "\n",
    "if not orders:\n",
    "    print(\"Все заказы обработаны.\")\n"
   ]
  },
  {
   "cell_type": "code",
   "execution_count": 16,
   "id": "c8d8c58b",
   "metadata": {},
   "outputs": [
    {
     "data": {
      "text/plain": [
       "[{'id': 1, 'location': (5, 5), 'end_time': 29.092702328466682, 'orders': 5},\n",
       " {'id': 2, 'location': (11, 0), 'end_time': 83.0871961889599, 'orders': 6}]"
      ]
     },
     "execution_count": 16,
     "metadata": {},
     "output_type": "execute_result"
    }
   ],
   "source": [
    "couriers"
   ]
  },
  {
   "cell_type": "code",
   "execution_count": null,
   "id": "5bcc5302",
   "metadata": {},
   "outputs": [],
   "source": []
  }
 ],
 "metadata": {
  "kernelspec": {
   "display_name": "Python 3 (ipykernel)",
   "language": "python",
   "name": "python3"
  },
  "language_info": {
   "codemirror_mode": {
    "name": "ipython",
    "version": 3
   },
   "file_extension": ".py",
   "mimetype": "text/x-python",
   "name": "python",
   "nbconvert_exporter": "python",
   "pygments_lexer": "ipython3",
   "version": "3.11.5"
  }
 },
 "nbformat": 4,
 "nbformat_minor": 5
}
